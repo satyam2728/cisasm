{
 "cells": [
  {
   "cell_type": "code",
   "execution_count": 1,
   "id": "37163d98",
   "metadata": {},
   "outputs": [],
   "source": [
    "first_name = ['loki', 'thor', 'spidey', 'captain']\n",
    "last_name = ['mischief','thunder','web','america']\n",
    "\n",
    "for i in range(len(first_name)):\n",
    "    first_name[i]+last_name[i]"
   ]
  },
  {
   "cell_type": "code",
   "execution_count": 23,
   "id": "65739735",
   "metadata": {},
   "outputs": [],
   "source": [
    "def full_date(year,qua):\n",
    "    given_y = int(year[0:4])\n",
    "    given_m = int(year[4:])\n",
    "    given_q = int(qua[1])\n",
    "    print(str(given_y)+\"{0:0=2d}\".format(given_m-1))\n",
    "    print('Q'+str(given_q-1)+'_'+str(given_y))\n",
    "    print(str(given_y+1)+'_'+\"{0:0=2d}\".format(given_m-1))\n",
    "    print('{0:0=2d}'.format(given_q)+'_'+str(given_y)) "
   ]
  },
  {
   "cell_type": "code",
   "execution_count": 24,
   "id": "a9659457",
   "metadata": {},
   "outputs": [
    {
     "name": "stdout",
     "output_type": "stream",
     "text": [
      "202208\n",
      "Q2_2022\n",
      "2023_08\n",
      "03_2022\n"
     ]
    }
   ],
   "source": [
    "full_date('202209','Q3')"
   ]
  },
  {
   "cell_type": "code",
   "execution_count": 13,
   "id": "a39b4506",
   "metadata": {},
   "outputs": [
    {
     "name": "stdout",
     "output_type": "stream",
     "text": [
      "3\n"
     ]
    }
   ],
   "source": [
    "given_q = 2\n",
    "print(str(2+1))"
   ]
  },
  {
   "cell_type": "code",
   "execution_count": 25,
   "id": "e43c001e",
   "metadata": {},
   "outputs": [
    {
     "name": "stdout",
     "output_type": "stream",
     "text": [
      "True\n"
     ]
    }
   ],
   "source": [
    "txt = \"The best things in life are free!\"\n",
    "print(\"free\" in txt)"
   ]
  },
  {
   "cell_type": "code",
   "execution_count": 26,
   "id": "c0644612",
   "metadata": {},
   "outputs": [
    {
     "data": {
      "text/plain": [
       "str"
      ]
     },
     "execution_count": 26,
     "metadata": {},
     "output_type": "execute_result"
    }
   ],
   "source": [
    "type(txt)"
   ]
  },
  {
   "cell_type": "code",
   "execution_count": 27,
   "id": "6820f57d",
   "metadata": {},
   "outputs": [
    {
     "data": {
      "text/plain": [
       "str"
      ]
     },
     "execution_count": 27,
     "metadata": {},
     "output_type": "execute_result"
    }
   ],
   "source": [
    "type(txt[3:6])"
   ]
  },
  {
   "cell_type": "code",
   "execution_count": 28,
   "id": "db44cf93",
   "metadata": {},
   "outputs": [
    {
     "data": {
      "text/plain": [
       "' be'"
      ]
     },
     "execution_count": 28,
     "metadata": {},
     "output_type": "execute_result"
    }
   ],
   "source": [
    "txt[3:6]"
   ]
  },
  {
   "cell_type": "code",
   "execution_count": null,
   "id": "94839553",
   "metadata": {},
   "outputs": [],
   "source": []
  }
 ],
 "metadata": {
  "kernelspec": {
   "display_name": "Python 3 (ipykernel)",
   "language": "python",
   "name": "python3"
  },
  "language_info": {
   "codemirror_mode": {
    "name": "ipython",
    "version": 3
   },
   "file_extension": ".py",
   "mimetype": "text/x-python",
   "name": "python",
   "nbconvert_exporter": "python",
   "pygments_lexer": "ipython3",
   "version": "3.8.8"
  }
 },
 "nbformat": 4,
 "nbformat_minor": 5
}
